{
  "nbformat": 4,
  "nbformat_minor": 0,
  "metadata": {
    "colab": {
      "provenance": [],
      "gpuType": "T4"
    },
    "kernelspec": {
      "name": "python3",
      "display_name": "Python 3"
    },
    "language_info": {
      "name": "python"
    },
    "accelerator": "GPU"
  },
  "cells": [
    {
      "cell_type": "code",
      "source": [
        "import pandas as pd\n",
        "import numpy as np\n",
        "import matplotlib.pyplot as plt\n",
        "import seaborn as sns\n",
        "import warnings\n",
        "warnings.filterwarnings('ignore')\n",
        "import string\n",
        "import re\n",
        "import nltk\n",
        "from nltk.corpus import stopwords\n",
        "nltk.download('stopwords')\n",
        "from sklearn.metrics import classification_report\n",
        "from sklearn.metrics import confusion_matrix\n",
        "import os"
      ],
      "metadata": {
        "colab": {
          "base_uri": "https://localhost:8080/"
        },
        "id": "mTNCii0nsSiU",
        "outputId": "5f5ce33c-bf03-4f1b-eb68-c5a8ad194d8d"
      },
      "execution_count": 1,
      "outputs": [
        {
          "output_type": "stream",
          "name": "stderr",
          "text": [
            "[nltk_data] Downloading package stopwords to /root/nltk_data...\n",
            "[nltk_data]   Unzipping corpora/stopwords.zip.\n"
          ]
        }
      ]
    },
    {
      "cell_type": "code",
      "source": [
        "import tensorflow as tf\n",
        "from sklearn.model_selection import train_test_split\n",
        "from tensorflow.keras.utils import plot_model\n",
        "from tensorflow.keras.layers import Input, Dense, BatchNormalization, Dropout\n",
        "from tensorflow.keras.layers import TextVectorization\n",
        "from tensorflow.keras import layers\n",
        "from tensorflow.keras.preprocessing.text import Tokenizer\n",
        "from tensorflow.keras.utils import pad_sequences"
      ],
      "metadata": {
        "id": "dlOBiipNscNl"
      },
      "execution_count": 2,
      "outputs": []
    },
    {
      "cell_type": "markdown",
      "source": [
        "## **Load preprocessed data**"
      ],
      "metadata": {
        "id": "Xa3QB3uOsUSH"
      }
    },
    {
      "cell_type": "code",
      "source": [
        "root_dir = \"/content/drive/MyDrive/disastertweet\"\n",
        "data_dir = \"/content/drive/MyDrive/disastertweet/data\"\n",
        "checkpoint_dir = root_dir + '/checkpoint'"
      ],
      "metadata": {
        "id": "7dKho5RMuG99"
      },
      "execution_count": 3,
      "outputs": []
    },
    {
      "cell_type": "code",
      "source": [
        "data = pd.read_csv(data_dir + '/train_processed.csv', index_col = None)\n",
        "data.head()"
      ],
      "metadata": {
        "colab": {
          "base_uri": "https://localhost:8080/",
          "height": 380
        },
        "id": "8-sdDOVfsUpF",
        "outputId": "df79e6d5-1e73-44e7-f71e-dc24dcd8e436"
      },
      "execution_count": 4,
      "outputs": [
        {
          "output_type": "execute_result",
          "data": {
            "text/plain": [
              "   Unnamed: 0  id keyword location  \\\n",
              "0           0   1     NaN      NaN   \n",
              "1           1   4     NaN      NaN   \n",
              "2           2   5     NaN      NaN   \n",
              "3           3   6     NaN      NaN   \n",
              "4           4   7     NaN      NaN   \n",
              "\n",
              "                                                text  target  \\\n",
              "0  Our Deeds are the Reason of this #earthquake M...       1   \n",
              "1             Forest fire near La Ronge Sask. Canada       1   \n",
              "2  All residents asked to 'shelter in place' are ...       1   \n",
              "3  13,000 people receive #wildfires evacuation or...       1   \n",
              "4  Just got sent this photo from Ruby #Alaska as ...       1   \n",
              "\n",
              "                                             cleaned  text_len_cleaned  \n",
              "0             deed reason earthquak may allah forgiv                 6  \n",
              "1                  forest fire near rong sask canada                 6  \n",
              "2  resid ask shelter place notifi offic evacu she...                11  \n",
              "3   peopl receiv fire wildfir evacu order california                 7  \n",
              "4  got sent photo rubi alaska smoke fire wildfir ...                10  "
            ],
            "text/html": [
              "\n",
              "  <div id=\"df-445c9fcd-eabd-441f-9518-a8463f9d1528\" class=\"colab-df-container\">\n",
              "    <div>\n",
              "<style scoped>\n",
              "    .dataframe tbody tr th:only-of-type {\n",
              "        vertical-align: middle;\n",
              "    }\n",
              "\n",
              "    .dataframe tbody tr th {\n",
              "        vertical-align: top;\n",
              "    }\n",
              "\n",
              "    .dataframe thead th {\n",
              "        text-align: right;\n",
              "    }\n",
              "</style>\n",
              "<table border=\"1\" class=\"dataframe\">\n",
              "  <thead>\n",
              "    <tr style=\"text-align: right;\">\n",
              "      <th></th>\n",
              "      <th>Unnamed: 0</th>\n",
              "      <th>id</th>\n",
              "      <th>keyword</th>\n",
              "      <th>location</th>\n",
              "      <th>text</th>\n",
              "      <th>target</th>\n",
              "      <th>cleaned</th>\n",
              "      <th>text_len_cleaned</th>\n",
              "    </tr>\n",
              "  </thead>\n",
              "  <tbody>\n",
              "    <tr>\n",
              "      <th>0</th>\n",
              "      <td>0</td>\n",
              "      <td>1</td>\n",
              "      <td>NaN</td>\n",
              "      <td>NaN</td>\n",
              "      <td>Our Deeds are the Reason of this #earthquake M...</td>\n",
              "      <td>1</td>\n",
              "      <td>deed reason earthquak may allah forgiv</td>\n",
              "      <td>6</td>\n",
              "    </tr>\n",
              "    <tr>\n",
              "      <th>1</th>\n",
              "      <td>1</td>\n",
              "      <td>4</td>\n",
              "      <td>NaN</td>\n",
              "      <td>NaN</td>\n",
              "      <td>Forest fire near La Ronge Sask. Canada</td>\n",
              "      <td>1</td>\n",
              "      <td>forest fire near rong sask canada</td>\n",
              "      <td>6</td>\n",
              "    </tr>\n",
              "    <tr>\n",
              "      <th>2</th>\n",
              "      <td>2</td>\n",
              "      <td>5</td>\n",
              "      <td>NaN</td>\n",
              "      <td>NaN</td>\n",
              "      <td>All residents asked to 'shelter in place' are ...</td>\n",
              "      <td>1</td>\n",
              "      <td>resid ask shelter place notifi offic evacu she...</td>\n",
              "      <td>11</td>\n",
              "    </tr>\n",
              "    <tr>\n",
              "      <th>3</th>\n",
              "      <td>3</td>\n",
              "      <td>6</td>\n",
              "      <td>NaN</td>\n",
              "      <td>NaN</td>\n",
              "      <td>13,000 people receive #wildfires evacuation or...</td>\n",
              "      <td>1</td>\n",
              "      <td>peopl receiv fire wildfir evacu order california</td>\n",
              "      <td>7</td>\n",
              "    </tr>\n",
              "    <tr>\n",
              "      <th>4</th>\n",
              "      <td>4</td>\n",
              "      <td>7</td>\n",
              "      <td>NaN</td>\n",
              "      <td>NaN</td>\n",
              "      <td>Just got sent this photo from Ruby #Alaska as ...</td>\n",
              "      <td>1</td>\n",
              "      <td>got sent photo rubi alaska smoke fire wildfir ...</td>\n",
              "      <td>10</td>\n",
              "    </tr>\n",
              "  </tbody>\n",
              "</table>\n",
              "</div>\n",
              "    <div class=\"colab-df-buttons\">\n",
              "\n",
              "  <div class=\"colab-df-container\">\n",
              "    <button class=\"colab-df-convert\" onclick=\"convertToInteractive('df-445c9fcd-eabd-441f-9518-a8463f9d1528')\"\n",
              "            title=\"Convert this dataframe to an interactive table.\"\n",
              "            style=\"display:none;\">\n",
              "\n",
              "  <svg xmlns=\"http://www.w3.org/2000/svg\" height=\"24px\" viewBox=\"0 -960 960 960\">\n",
              "    <path d=\"M120-120v-720h720v720H120Zm60-500h600v-160H180v160Zm220 220h160v-160H400v160Zm0 220h160v-160H400v160ZM180-400h160v-160H180v160Zm440 0h160v-160H620v160ZM180-180h160v-160H180v160Zm440 0h160v-160H620v160Z\"/>\n",
              "  </svg>\n",
              "    </button>\n",
              "\n",
              "  <style>\n",
              "    .colab-df-container {\n",
              "      display:flex;\n",
              "      gap: 12px;\n",
              "    }\n",
              "\n",
              "    .colab-df-convert {\n",
              "      background-color: #E8F0FE;\n",
              "      border: none;\n",
              "      border-radius: 50%;\n",
              "      cursor: pointer;\n",
              "      display: none;\n",
              "      fill: #1967D2;\n",
              "      height: 32px;\n",
              "      padding: 0 0 0 0;\n",
              "      width: 32px;\n",
              "    }\n",
              "\n",
              "    .colab-df-convert:hover {\n",
              "      background-color: #E2EBFA;\n",
              "      box-shadow: 0px 1px 2px rgba(60, 64, 67, 0.3), 0px 1px 3px 1px rgba(60, 64, 67, 0.15);\n",
              "      fill: #174EA6;\n",
              "    }\n",
              "\n",
              "    .colab-df-buttons div {\n",
              "      margin-bottom: 4px;\n",
              "    }\n",
              "\n",
              "    [theme=dark] .colab-df-convert {\n",
              "      background-color: #3B4455;\n",
              "      fill: #D2E3FC;\n",
              "    }\n",
              "\n",
              "    [theme=dark] .colab-df-convert:hover {\n",
              "      background-color: #434B5C;\n",
              "      box-shadow: 0px 1px 3px 1px rgba(0, 0, 0, 0.15);\n",
              "      filter: drop-shadow(0px 1px 2px rgba(0, 0, 0, 0.3));\n",
              "      fill: #FFFFFF;\n",
              "    }\n",
              "  </style>\n",
              "\n",
              "    <script>\n",
              "      const buttonEl =\n",
              "        document.querySelector('#df-445c9fcd-eabd-441f-9518-a8463f9d1528 button.colab-df-convert');\n",
              "      buttonEl.style.display =\n",
              "        google.colab.kernel.accessAllowed ? 'block' : 'none';\n",
              "\n",
              "      async function convertToInteractive(key) {\n",
              "        const element = document.querySelector('#df-445c9fcd-eabd-441f-9518-a8463f9d1528');\n",
              "        const dataTable =\n",
              "          await google.colab.kernel.invokeFunction('convertToInteractive',\n",
              "                                                    [key], {});\n",
              "        if (!dataTable) return;\n",
              "\n",
              "        const docLinkHtml = 'Like what you see? Visit the ' +\n",
              "          '<a target=\"_blank\" href=https://colab.research.google.com/notebooks/data_table.ipynb>data table notebook</a>'\n",
              "          + ' to learn more about interactive tables.';\n",
              "        element.innerHTML = '';\n",
              "        dataTable['output_type'] = 'display_data';\n",
              "        await google.colab.output.renderOutput(dataTable, element);\n",
              "        const docLink = document.createElement('div');\n",
              "        docLink.innerHTML = docLinkHtml;\n",
              "        element.appendChild(docLink);\n",
              "      }\n",
              "    </script>\n",
              "  </div>\n",
              "\n",
              "\n",
              "<div id=\"df-99b68fb0-9fa5-48a0-921e-d0a9bc860b34\">\n",
              "  <button class=\"colab-df-quickchart\" onclick=\"quickchart('df-99b68fb0-9fa5-48a0-921e-d0a9bc860b34')\"\n",
              "            title=\"Suggest charts.\"\n",
              "            style=\"display:none;\">\n",
              "\n",
              "<svg xmlns=\"http://www.w3.org/2000/svg\" height=\"24px\"viewBox=\"0 0 24 24\"\n",
              "     width=\"24px\">\n",
              "    <g>\n",
              "        <path d=\"M19 3H5c-1.1 0-2 .9-2 2v14c0 1.1.9 2 2 2h14c1.1 0 2-.9 2-2V5c0-1.1-.9-2-2-2zM9 17H7v-7h2v7zm4 0h-2V7h2v10zm4 0h-2v-4h2v4z\"/>\n",
              "    </g>\n",
              "</svg>\n",
              "  </button>\n",
              "\n",
              "<style>\n",
              "  .colab-df-quickchart {\n",
              "      --bg-color: #E8F0FE;\n",
              "      --fill-color: #1967D2;\n",
              "      --hover-bg-color: #E2EBFA;\n",
              "      --hover-fill-color: #174EA6;\n",
              "      --disabled-fill-color: #AAA;\n",
              "      --disabled-bg-color: #DDD;\n",
              "  }\n",
              "\n",
              "  [theme=dark] .colab-df-quickchart {\n",
              "      --bg-color: #3B4455;\n",
              "      --fill-color: #D2E3FC;\n",
              "      --hover-bg-color: #434B5C;\n",
              "      --hover-fill-color: #FFFFFF;\n",
              "      --disabled-bg-color: #3B4455;\n",
              "      --disabled-fill-color: #666;\n",
              "  }\n",
              "\n",
              "  .colab-df-quickchart {\n",
              "    background-color: var(--bg-color);\n",
              "    border: none;\n",
              "    border-radius: 50%;\n",
              "    cursor: pointer;\n",
              "    display: none;\n",
              "    fill: var(--fill-color);\n",
              "    height: 32px;\n",
              "    padding: 0;\n",
              "    width: 32px;\n",
              "  }\n",
              "\n",
              "  .colab-df-quickchart:hover {\n",
              "    background-color: var(--hover-bg-color);\n",
              "    box-shadow: 0 1px 2px rgba(60, 64, 67, 0.3), 0 1px 3px 1px rgba(60, 64, 67, 0.15);\n",
              "    fill: var(--button-hover-fill-color);\n",
              "  }\n",
              "\n",
              "  .colab-df-quickchart-complete:disabled,\n",
              "  .colab-df-quickchart-complete:disabled:hover {\n",
              "    background-color: var(--disabled-bg-color);\n",
              "    fill: var(--disabled-fill-color);\n",
              "    box-shadow: none;\n",
              "  }\n",
              "\n",
              "  .colab-df-spinner {\n",
              "    border: 2px solid var(--fill-color);\n",
              "    border-color: transparent;\n",
              "    border-bottom-color: var(--fill-color);\n",
              "    animation:\n",
              "      spin 1s steps(1) infinite;\n",
              "  }\n",
              "\n",
              "  @keyframes spin {\n",
              "    0% {\n",
              "      border-color: transparent;\n",
              "      border-bottom-color: var(--fill-color);\n",
              "      border-left-color: var(--fill-color);\n",
              "    }\n",
              "    20% {\n",
              "      border-color: transparent;\n",
              "      border-left-color: var(--fill-color);\n",
              "      border-top-color: var(--fill-color);\n",
              "    }\n",
              "    30% {\n",
              "      border-color: transparent;\n",
              "      border-left-color: var(--fill-color);\n",
              "      border-top-color: var(--fill-color);\n",
              "      border-right-color: var(--fill-color);\n",
              "    }\n",
              "    40% {\n",
              "      border-color: transparent;\n",
              "      border-right-color: var(--fill-color);\n",
              "      border-top-color: var(--fill-color);\n",
              "    }\n",
              "    60% {\n",
              "      border-color: transparent;\n",
              "      border-right-color: var(--fill-color);\n",
              "    }\n",
              "    80% {\n",
              "      border-color: transparent;\n",
              "      border-right-color: var(--fill-color);\n",
              "      border-bottom-color: var(--fill-color);\n",
              "    }\n",
              "    90% {\n",
              "      border-color: transparent;\n",
              "      border-bottom-color: var(--fill-color);\n",
              "    }\n",
              "  }\n",
              "</style>\n",
              "\n",
              "  <script>\n",
              "    async function quickchart(key) {\n",
              "      const quickchartButtonEl =\n",
              "        document.querySelector('#' + key + ' button');\n",
              "      quickchartButtonEl.disabled = true;  // To prevent multiple clicks.\n",
              "      quickchartButtonEl.classList.add('colab-df-spinner');\n",
              "      try {\n",
              "        const charts = await google.colab.kernel.invokeFunction(\n",
              "            'suggestCharts', [key], {});\n",
              "      } catch (error) {\n",
              "        console.error('Error during call to suggestCharts:', error);\n",
              "      }\n",
              "      quickchartButtonEl.classList.remove('colab-df-spinner');\n",
              "      quickchartButtonEl.classList.add('colab-df-quickchart-complete');\n",
              "    }\n",
              "    (() => {\n",
              "      let quickchartButtonEl =\n",
              "        document.querySelector('#df-99b68fb0-9fa5-48a0-921e-d0a9bc860b34 button');\n",
              "      quickchartButtonEl.style.display =\n",
              "        google.colab.kernel.accessAllowed ? 'block' : 'none';\n",
              "    })();\n",
              "  </script>\n",
              "</div>\n",
              "    </div>\n",
              "  </div>\n"
            ]
          },
          "metadata": {},
          "execution_count": 4
        }
      ]
    },
    {
      "cell_type": "code",
      "source": [
        "data_cleaned = data['cleaned']\n",
        "data_cleaned"
      ],
      "metadata": {
        "colab": {
          "base_uri": "https://localhost:8080/"
        },
        "id": "nY6EXcF7uYpF",
        "outputId": "c376893d-0cc2-426a-a897-dd5791a2e17c"
      },
      "execution_count": 5,
      "outputs": [
        {
          "output_type": "execute_result",
          "data": {
            "text/plain": [
              "0                  deed reason earthquak may allah forgiv\n",
              "1                       forest fire near rong sask canada\n",
              "2       resid ask shelter place notifi offic evacu she...\n",
              "3        peopl receiv fire wildfir evacu order california\n",
              "4       got sent photo rubi alaska smoke fire wildfir ...\n",
              "                              ...                        \n",
              "7608        two giant crane hold bridg collap nearbi home\n",
              "7609    aria ahrari thetawniest control wild fire cali...\n",
              "7610                                       volcano hawaii\n",
              "7611    polic investig ebik collid car littl portug eb...\n",
              "7612    latest home raze northern california fire wild...\n",
              "Name: cleaned, Length: 7613, dtype: object"
            ]
          },
          "metadata": {},
          "execution_count": 5
        }
      ]
    },
    {
      "cell_type": "code",
      "source": [
        "label = data['target']\n",
        "label"
      ],
      "metadata": {
        "colab": {
          "base_uri": "https://localhost:8080/"
        },
        "id": "RKTsTWRNuymF",
        "outputId": "200da44f-0f24-4352-fe6d-7bdfe1c20322"
      },
      "execution_count": 6,
      "outputs": [
        {
          "output_type": "execute_result",
          "data": {
            "text/plain": [
              "0       1\n",
              "1       1\n",
              "2       1\n",
              "3       1\n",
              "4       1\n",
              "       ..\n",
              "7608    1\n",
              "7609    1\n",
              "7610    1\n",
              "7611    1\n",
              "7612    1\n",
              "Name: target, Length: 7613, dtype: int64"
            ]
          },
          "metadata": {},
          "execution_count": 6
        }
      ]
    },
    {
      "cell_type": "code",
      "source": [
        "X = data_cleaned.to_numpy()\n",
        "X = [str(x) for x in X]\n",
        "print(X[:10])\n",
        "y = label.to_numpy()\n",
        "print(y[:10])\n",
        "print(type(y[0]))"
      ],
      "metadata": {
        "colab": {
          "base_uri": "https://localhost:8080/"
        },
        "id": "EchfC7GNvKVv",
        "outputId": "d2c68f58-3530-4aeb-914d-7a6de8ed3a99"
      },
      "execution_count": 7,
      "outputs": [
        {
          "output_type": "stream",
          "name": "stdout",
          "text": [
            "['deed reason earthquak may allah forgiv', 'forest fire near rong sask canada', 'resid ask shelter place notifi offic evacu shelter place order expect', 'peopl receiv fire wildfir evacu order california', 'got sent photo rubi alaska smoke fire wildfir pour school', 'fire updat california hwi close direct due lake counti fire fire fire wildfir', 'flood disast heavi rain caus flash flood street manitou colorado spring area', 'top hill see fire wood', 'there emerg evacu happen build across street', 'afraid tornado come area']\n",
            "[1 1 1 1 1 1 1 1 1 1]\n",
            "<class 'numpy.int64'>\n"
          ]
        }
      ]
    },
    {
      "cell_type": "code",
      "source": [
        "X_train, X_test, y_train, y_test = train_test_split(X, y, random_state=42, shuffle = True)\n",
        "print(len(X_train))\n",
        "print(len(X_test))\n"
      ],
      "metadata": {
        "colab": {
          "base_uri": "https://localhost:8080/"
        },
        "id": "7Qc_QVUmHGyN",
        "outputId": "ea233e45-5124-4229-b2b8-78c575dae913"
      },
      "execution_count": 8,
      "outputs": [
        {
          "output_type": "stream",
          "name": "stdout",
          "text": [
            "5709\n",
            "1904\n"
          ]
        }
      ]
    },
    {
      "cell_type": "code",
      "source": [
        "# Find max-length of a tweet\n",
        "max_length_seq = max([len(x.split(\" \")) for x in X if isinstance(x,str)])\n",
        "print(max_length_seq)"
      ],
      "metadata": {
        "colab": {
          "base_uri": "https://localhost:8080/"
        },
        "id": "VevYkSfVv2Mu",
        "outputId": "e2278c04-3f36-4ecb-b8ec-01a398f9642b"
      },
      "execution_count": 9,
      "outputs": [
        {
          "output_type": "stream",
          "name": "stdout",
          "text": [
            "21\n"
          ]
        }
      ]
    },
    {
      "cell_type": "code",
      "source": [
        "# Find number of unique words\n",
        "unique_words = set()\n",
        "\n",
        "# Tokenize and add unique words to the set\n",
        "for sentence in X:\n",
        "    if isinstance(sentence, str):\n",
        "        words = sentence.split(\" \")\n",
        "    else:\n",
        "        words = 'nan'\n",
        "    unique_words.update(words)\n",
        "\n",
        "# Get the number of unique words\n",
        "num_unique_words = len(unique_words)\n",
        "print(num_unique_words)"
      ],
      "metadata": {
        "colab": {
          "base_uri": "https://localhost:8080/"
        },
        "id": "3rwv3ao0AD-f",
        "outputId": "297c98a8-50fe-4203-f4f2-c802a514f3c4"
      },
      "execution_count": 10,
      "outputs": [
        {
          "output_type": "stream",
          "name": "stdout",
          "text": [
            "13201\n"
          ]
        }
      ]
    },
    {
      "cell_type": "code",
      "source": [
        "# Create text-vectorize object\n",
        "max_vocab_length = 13000 # max number of words to have in our vocabulary\n",
        "\n",
        "text_vectorizer = TextVectorization(max_tokens=max_vocab_length,\n",
        "                                    output_mode=\"int\",\n",
        "                                    output_sequence_length=max_length_seq)"
      ],
      "metadata": {
        "id": "WaSwOwvr27jL"
      },
      "execution_count": 11,
      "outputs": []
    },
    {
      "cell_type": "code",
      "source": [
        "text_vectorizer.adapt(X)"
      ],
      "metadata": {
        "id": "lhGPn1Ij99Td"
      },
      "execution_count": 12,
      "outputs": []
    },
    {
      "cell_type": "code",
      "source": [
        "sample_sentence = \"There's a flood in my street!\"\n",
        "text_vectorizer([sample_sentence])"
      ],
      "metadata": {
        "colab": {
          "base_uri": "https://localhost:8080/"
        },
        "id": "1AanPYAl-n93",
        "outputId": "ee4d2581-e7fb-449f-992c-6a9f343e2c4c"
      },
      "execution_count": 13,
      "outputs": [
        {
          "output_type": "execute_result",
          "data": {
            "text/plain": [
              "<tf.Tensor: shape=(1, 21), dtype=int64, numpy=\n",
              "array([[  1,   1,  17,   1, 772, 399,   0,   0,   0,   0,   0,   0,   0,\n",
              "          0,   0,   0,   0,   0,   0,   0,   0]])>"
            ]
          },
          "metadata": {},
          "execution_count": 13
        }
      ]
    },
    {
      "cell_type": "code",
      "source": [
        "# X_train, X_test for normal-embedding\n",
        "X_train_nor = np.array(text_vectorizer(X_train))\n",
        "X_test_nor =  np.array(text_vectorizer(X_test))"
      ],
      "metadata": {
        "id": "c9gq64-sH1dn"
      },
      "execution_count": 14,
      "outputs": []
    },
    {
      "cell_type": "code",
      "source": [
        "type(X_train_nor)"
      ],
      "metadata": {
        "colab": {
          "base_uri": "https://localhost:8080/"
        },
        "id": "cwMBP9BAJwsI",
        "outputId": "5583b8c0-bf5e-43b9-9a91-ef50f35a48b3"
      },
      "execution_count": 15,
      "outputs": [
        {
          "output_type": "execute_result",
          "data": {
            "text/plain": [
              "numpy.ndarray"
            ]
          },
          "metadata": {},
          "execution_count": 15
        }
      ]
    },
    {
      "cell_type": "code",
      "source": [
        "# 1) Create embedding layers randomly in uniform distribution\n",
        "tf.random.set_seed(42)\n",
        "embedding_normal = layers.Embedding(input_dim=max_vocab_length,\n",
        "                             output_dim=128,\n",
        "                             embeddings_initializer=\"uniform\",\n",
        "                             input_length=max_length_seq,\n",
        "                             name=\"embedding_1\")\n",
        "\n",
        "embedding_normal"
      ],
      "metadata": {
        "colab": {
          "base_uri": "https://localhost:8080/"
        },
        "id": "C5AwSbBa_hdz",
        "outputId": "bdd4fb5b-2709-4478-d15b-3d3518d9a30b"
      },
      "execution_count": 16,
      "outputs": [
        {
          "output_type": "execute_result",
          "data": {
            "text/plain": [
              "<keras.layers.core.embedding.Embedding at 0x7f6e45857400>"
            ]
          },
          "metadata": {},
          "execution_count": 16
        }
      ]
    },
    {
      "cell_type": "code",
      "source": [
        "# 2) Create pre-trained GLove embedding\n",
        "tokenizer = Tokenizer(num_words=max_vocab_length, oov_token = True)\n",
        "tokenizer.fit_on_texts(X)\n",
        "# X_train, X_test for GLove tokenizer\n",
        "X_train_glove = pad_sequences(tokenizer.texts_to_sequences(X_train), maxlen=max_length_seq)\n",
        "X_test_glove  = pad_sequences(tokenizer.texts_to_sequences(X_test), maxlen=max_length_seq)"
      ],
      "metadata": {
        "id": "9D6T7dsBPMAa"
      },
      "execution_count": 17,
      "outputs": []
    },
    {
      "cell_type": "code",
      "source": [
        "X_train_glove[:10]"
      ],
      "metadata": {
        "colab": {
          "base_uri": "https://localhost:8080/"
        },
        "id": "a_LcALEKRo5X",
        "outputId": "6ea3becc-6ebe-4f58-fd64-dbde3a92de5b"
      },
      "execution_count": 18,
      "outputs": [
        {
          "output_type": "execute_result",
          "data": {
            "text/plain": [
              "array([[    0,     0,     0,     0,     0,     0, 10740, 10741,    39,\n",
              "         1017,  2117,   914,   626,  2117,    41,  1753,  1753,  1229,\n",
              "          466,    85,   626],\n",
              "       [    0,     0,     0,     0,     0,     0,     0,     0,     0,\n",
              "            0,     0,     0,     0, 11923,    62,  3239,   309, 11924,\n",
              "          239,  2185,  2047],\n",
              "       [    0,     0,     0,     0,     0,   224,  8824,  3848,  1303,\n",
              "           80,   114,  1037,   421,   375,    29,     3,   246,    64,\n",
              "           66,     9,    11],\n",
              "       [    0,     0,     0,     0,     0,     0,     0,     0,     0,\n",
              "            0,     0,     0,     0,     0,     0,     0,    70,  1357,\n",
              "          298,    70,   443],\n",
              "       [    0,     0,     0,     0,     0,     0,     0,     0,     0,\n",
              "            0,     0,     0,     0,     0,     0,   155,   234,    20,\n",
              "          100,   178,   573],\n",
              "       [    0,     0,     0,     0,     0,     0,     0,     0,     0,\n",
              "            0,  1198, 10761,   279,  1294,  1578,  1194,   640,    85,\n",
              "           66,  2499, 10762],\n",
              "       [    0,     0,     0,     0,     0,     0,     0,     0,     0,\n",
              "            0,     0,     0,     0,     0,    23,    52,  6178,   751,\n",
              "           23,    52,   722],\n",
              "       [    0,     0,     0,     0,     0,     0,     0,     0,     0,\n",
              "            0,     0,     0,     0,     0,     0,     0, 10673, 10674,\n",
              "          203,    20,    38],\n",
              "       [    0,     0,     0,     0,     0,     0,     0,     0,     0,\n",
              "            0,     0,  7329,    66,   150,  1203,    63,    62,   624,\n",
              "          674,   603,   731],\n",
              "       [    0,     0,     0,     0,     0,     0,     0,     0,     0,\n",
              "            0,     0,     0,     0,  6081,     5,  3831,  2466,   590,\n",
              "          272,   411,  6082]], dtype=int32)"
            ]
          },
          "metadata": {},
          "execution_count": 18
        }
      ]
    },
    {
      "cell_type": "code",
      "source": [
        "len(tokenizer.index_word)"
      ],
      "metadata": {
        "colab": {
          "base_uri": "https://localhost:8080/"
        },
        "id": "UtDoUDjfUto4",
        "outputId": "2c1121ba-8ac0-4266-ff72-3c1801f6fb42"
      },
      "execution_count": 19,
      "outputs": [
        {
          "output_type": "execute_result",
          "data": {
            "text/plain": [
              "13202"
            ]
          },
          "metadata": {},
          "execution_count": 19
        }
      ]
    },
    {
      "cell_type": "code",
      "source": [
        "# Pretrained GLove embedding\n",
        "glove_txt = root_dir + '/glove.6B.100d.txt'\n",
        "def create_glove_vocab():\n",
        "  glove_file = open(glove_txt)\n",
        "  em_dictionary = {}\n",
        "  for line in glove_file:\n",
        "      records = line.split()\n",
        "      word = records[0]\n",
        "      vector_dimensions = np.asarray(records[1:], dtype='float32')\n",
        "      em_dictionary[word] = vector_dimensions\n",
        "  glove_file.close()\n",
        "  return em_dictionary\n",
        "\n",
        "def create_glove_embedding_matrix(em_dict, em_dim = 100):\n",
        "    vocab_size = len(tokenizer.index_word) + 1\n",
        "    print(\"Vocab_size\", vocab_size)\n",
        "    embedding_matrix = np.zeros((vocab_size, em_dim))\n",
        "    for word, i in tokenizer.word_index.items():\n",
        "        embedding_vector = em_dict.get(word)\n",
        "        if embedding_vector is not None:\n",
        "            embedding_matrix[i] = embedding_vector\n",
        "    return embedding_matrix"
      ],
      "metadata": {
        "id": "Uc-IFBwpAp8T"
      },
      "execution_count": 20,
      "outputs": []
    },
    {
      "cell_type": "code",
      "source": [
        "em_dict = create_glove_vocab()\n",
        "em_matrix = create_glove_embedding_matrix(em_dict)"
      ],
      "metadata": {
        "colab": {
          "base_uri": "https://localhost:8080/"
        },
        "id": "zv_PJ-CyMnV-",
        "outputId": "66f0609b-88b9-4ae8-c017-9dd7c43f38d0"
      },
      "execution_count": 21,
      "outputs": [
        {
          "output_type": "stream",
          "name": "stdout",
          "text": [
            "Vocab_size 13203\n"
          ]
        }
      ]
    },
    {
      "cell_type": "code",
      "source": [
        "em_matrix.shape"
      ],
      "metadata": {
        "colab": {
          "base_uri": "https://localhost:8080/"
        },
        "id": "-YeUmK_0WsCe",
        "outputId": "9e32c2f6-1705-400d-edac-932fef3ad666"
      },
      "execution_count": 22,
      "outputs": [
        {
          "output_type": "execute_result",
          "data": {
            "text/plain": [
              "(13203, 100)"
            ]
          },
          "metadata": {},
          "execution_count": 22
        }
      ]
    },
    {
      "cell_type": "code",
      "source": [
        "# Glove embedding layers\n",
        "glove_embed = layers.Embedding(input_dim=em_matrix.shape[0], output_dim=em_matrix.shape[1],\n",
        "                              input_length=max_length_seq, trainable=False, weights=[em_matrix])\n"
      ],
      "metadata": {
        "id": "5g7eH0n_Wy4w"
      },
      "execution_count": 23,
      "outputs": []
    },
    {
      "cell_type": "markdown",
      "source": [
        "## Create model"
      ],
      "metadata": {
        "id": "7pyjRm72LQsB"
      }
    },
    {
      "cell_type": "code",
      "source": [
        "def define_callback(model_name):\n",
        "    if not os.path.exists(checkpoint_dir):\n",
        "        os.makedirs(checkpoint_dir)\n",
        "    model_dir = checkpoint_dir + '/{}'.format(model_name)\n",
        "    if not os.path.exists(model_dir):\n",
        "        os.makedirs(model_dir)\n",
        "\n",
        "    early_stopping_callback = tf.keras.callbacks.EarlyStopping(patience=3, verbose= 1)\n",
        "\n",
        "    checkpoint= tf.keras.callbacks.ModelCheckpoint(\n",
        "    filepath= model_dir + '/{}.hdf5'.format(model_name),\n",
        "    save_weights_only=True,\n",
        "    monitor='val_accuracy',\n",
        "    mode='max',\n",
        "    save_best_only=True,\n",
        "    verbose = 1)\n",
        "    return early_stopping_callback, checkpoint"
      ],
      "metadata": {
        "id": "vcy_OggyXyK5"
      },
      "execution_count": 24,
      "outputs": []
    },
    {
      "cell_type": "code",
      "source": [
        "def get_classfication_report(y_pred, y_true):\n",
        "    return classification_report(y_true, y_pred)"
      ],
      "metadata": {
        "id": "epxlg3bSZZtQ"
      },
      "execution_count": 25,
      "outputs": []
    },
    {
      "cell_type": "code",
      "source": [
        "def get_cfm(y_pred, y_true):\n",
        "    cm = confusion_matrix(y_true, y_pred)\n",
        "\n",
        "    plt.figure(figsize=(5,5))\n",
        "    sns.heatmap(cm, annot=True, fmt=\"d\", cmap=\"Blues\", xticklabels=[\"Predicted 0\", \"Predicted 1\"], yticklabels=[\"Actual 0\", \"Actual 1\"])\n",
        "    plt.xlabel(\"Predicted\")\n",
        "    plt.ylabel(\"Actual\")\n",
        "    plt.title(\"Confusion Matrix\")\n",
        "    plt.show()"
      ],
      "metadata": {
        "id": "_krGM3VLZaH5"
      },
      "execution_count": 26,
      "outputs": []
    },
    {
      "cell_type": "code",
      "source": [
        "def get_class(model, X_test):\n",
        "    pred = model.predict(X_test)\n",
        "    pred = [1 if i >= 0.5 else 0 for i in pred]\n",
        "    return pred"
      ],
      "metadata": {
        "id": "MTxaZk1C3JNI"
      },
      "execution_count": 27,
      "outputs": []
    },
    {
      "cell_type": "markdown",
      "source": [
        "### **Model 1: MLP Dense model**"
      ],
      "metadata": {
        "id": "RhcqceJSLSPY"
      }
    },
    {
      "cell_type": "code",
      "source": [
        "def get_model1(glove_embedding = False):\n",
        "    model_name = 'model1_mlp'\n",
        "    inputs = layers.Input(shape = (1, ))\n",
        "    if glove_embedding:\n",
        "      x = glove_embed(inputs)\n",
        "      model_name = 'model1_mlp_glove'\n",
        "    else:\n",
        "      x = embedding_normal(inputs)\n",
        "    x = layers.GlobalAveragePooling1D()(x)\n",
        "    outputs = Dense(1, activation=\"sigmoid\")(x)\n",
        "\n",
        "    model_1 = tf.keras.Model(inputs, outputs, name= model_name)\n",
        "    model_1.compile(loss=\"binary_crossentropy\",\n",
        "                optimizer=tf.keras.optimizers.Adam(),\n",
        "                metrics=[\"accuracy\"])\n",
        "\n",
        "    # Get callback\n",
        "    early_stop, cp1 = define_callback(model_name)\n",
        "    print(model_1.summary())\n",
        "    return model_1, early_stop, cp1"
      ],
      "metadata": {
        "id": "L43-WDu6KRHc"
      },
      "execution_count": 28,
      "outputs": []
    },
    {
      "cell_type": "code",
      "source": [
        "# Model 1: GLove_embedding = False\n",
        "model_1,early, cp1 = get_model1()"
      ],
      "metadata": {
        "colab": {
          "base_uri": "https://localhost:8080/"
        },
        "id": "-PLJIL-TLq18",
        "outputId": "ac006721-93dd-492d-cf31-262385450c44"
      },
      "execution_count": 29,
      "outputs": [
        {
          "output_type": "stream",
          "name": "stdout",
          "text": [
            "Model: \"model1_mlp\"\n",
            "_________________________________________________________________\n",
            " Layer (type)                Output Shape              Param #   \n",
            "=================================================================\n",
            " input_1 (InputLayer)        [(None, 1)]               0         \n",
            "                                                                 \n",
            " embedding_1 (Embedding)     (None, 1, 128)            1664000   \n",
            "                                                                 \n",
            " global_average_pooling1d (G  (None, 128)              0         \n",
            " lobalAveragePooling1D)                                          \n",
            "                                                                 \n",
            " dense (Dense)               (None, 1)                 129       \n",
            "                                                                 \n",
            "=================================================================\n",
            "Total params: 1,664,129\n",
            "Trainable params: 1,664,129\n",
            "Non-trainable params: 0\n",
            "_________________________________________________________________\n",
            "None\n"
          ]
        }
      ]
    },
    {
      "cell_type": "code",
      "source": [
        "model1_history = model_1.fit(X_train_nor, # input sentences can be a list of strings due to text preprocessing layer built-in model\n",
        "                              y_train,\n",
        "                              epochs=10,\n",
        "                              callbacks = [early, cp1],\n",
        "                              validation_data=(X_test_nor, y_test))"
      ],
      "metadata": {
        "colab": {
          "base_uri": "https://localhost:8080/"
        },
        "id": "JRylYzoHLr1u",
        "outputId": "80f17ad4-2874-4989-8b1c-ef36bdfcb5fe"
      },
      "execution_count": 30,
      "outputs": [
        {
          "output_type": "stream",
          "name": "stdout",
          "text": [
            "Epoch 1/10\n",
            "179/179 [==============================] - ETA: 0s - loss: 0.6541 - accuracy: 0.6024\n",
            "Epoch 1: val_accuracy improved from -inf to 0.72006, saving model to /content/drive/MyDrive/disastertweet/checkpoint/model1_mlp/model1_mlp.hdf5\n",
            "179/179 [==============================] - 21s 88ms/step - loss: 0.6541 - accuracy: 0.6024 - val_loss: 0.6088 - val_accuracy: 0.7201\n",
            "Epoch 2/10\n",
            "179/179 [==============================] - ETA: 0s - loss: 0.5234 - accuracy: 0.7895\n",
            "Epoch 2: val_accuracy improved from 0.72006 to 0.80462, saving model to /content/drive/MyDrive/disastertweet/checkpoint/model1_mlp/model1_mlp.hdf5\n",
            "179/179 [==============================] - 4s 23ms/step - loss: 0.5234 - accuracy: 0.7895 - val_loss: 0.4924 - val_accuracy: 0.8046\n",
            "Epoch 3/10\n",
            "179/179 [==============================] - ETA: 0s - loss: 0.3963 - accuracy: 0.8543\n",
            "Epoch 3: val_accuracy improved from 0.80462 to 0.81250, saving model to /content/drive/MyDrive/disastertweet/checkpoint/model1_mlp/model1_mlp.hdf5\n",
            "179/179 [==============================] - 2s 12ms/step - loss: 0.3963 - accuracy: 0.8543 - val_loss: 0.4444 - val_accuracy: 0.8125\n",
            "Epoch 4/10\n",
            "179/179 [==============================] - ETA: 0s - loss: 0.3195 - accuracy: 0.8818\n",
            "Epoch 4: val_accuracy did not improve from 0.81250\n",
            "179/179 [==============================] - 2s 11ms/step - loss: 0.3195 - accuracy: 0.8818 - val_loss: 0.4357 - val_accuracy: 0.8015\n",
            "Epoch 5/10\n",
            "179/179 [==============================] - ETA: 0s - loss: 0.2658 - accuracy: 0.9079\n",
            "Epoch 5: val_accuracy did not improve from 0.81250\n",
            "179/179 [==============================] - 2s 9ms/step - loss: 0.2658 - accuracy: 0.9079 - val_loss: 0.4391 - val_accuracy: 0.7967\n",
            "Epoch 6/10\n",
            "179/179 [==============================] - ETA: 0s - loss: 0.2235 - accuracy: 0.9243\n",
            "Epoch 6: val_accuracy did not improve from 0.81250\n",
            "179/179 [==============================] - 2s 13ms/step - loss: 0.2235 - accuracy: 0.9243 - val_loss: 0.4405 - val_accuracy: 0.7978\n",
            "Epoch 7/10\n",
            "179/179 [==============================] - ETA: 0s - loss: 0.1907 - accuracy: 0.9378\n",
            "Epoch 7: val_accuracy did not improve from 0.81250\n",
            "179/179 [==============================] - 2s 13ms/step - loss: 0.1907 - accuracy: 0.9378 - val_loss: 0.4515 - val_accuracy: 0.7978\n",
            "Epoch 7: early stopping\n"
          ]
        }
      ]
    },
    {
      "cell_type": "code",
      "source": [
        "model_1_pred = get_class(model_1, X_test_nor)"
      ],
      "metadata": {
        "colab": {
          "base_uri": "https://localhost:8080/"
        },
        "id": "eUaAJDEWYHao",
        "outputId": "87285a2c-1ed9-4da0-c32a-2dda256a1b47"
      },
      "execution_count": 31,
      "outputs": [
        {
          "output_type": "stream",
          "name": "stdout",
          "text": [
            "60/60 [==============================] - 0s 1ms/step\n"
          ]
        }
      ]
    },
    {
      "cell_type": "code",
      "source": [
        "get_classfication_report(model_1_pred, y_test)"
      ],
      "metadata": {
        "colab": {
          "base_uri": "https://localhost:8080/",
          "height": 87
        },
        "id": "4ZzKfyLpY5iR",
        "outputId": "c4bb721e-0294-4ffe-9fd5-4203f32296bd"
      },
      "execution_count": 32,
      "outputs": [
        {
          "output_type": "execute_result",
          "data": {
            "text/plain": [
              "'              precision    recall  f1-score   support\\n\\n           0       0.81      0.85      0.83      1091\\n           1       0.79      0.72      0.75       813\\n\\n    accuracy                           0.80      1904\\n   macro avg       0.80      0.79      0.79      1904\\nweighted avg       0.80      0.80      0.80      1904\\n'"
            ],
            "application/vnd.google.colaboratory.intrinsic+json": {
              "type": "string"
            }
          },
          "metadata": {},
          "execution_count": 32
        }
      ]
    },
    {
      "cell_type": "code",
      "source": [
        "get_cfm(model_1_pred, y_test)"
      ],
      "metadata": {
        "colab": {
          "base_uri": "https://localhost:8080/",
          "height": 487
        },
        "id": "FQXBgFGEZCnj",
        "outputId": "aad43777-a1ca-45a5-9cdb-c3f654e2666e"
      },
      "execution_count": 33,
      "outputs": [
        {
          "output_type": "display_data",
          "data": {
            "text/plain": [
              "<Figure size 500x500 with 2 Axes>"
            ],
            "image/png": "[encoded data removed]"
          },
          "metadata": {}
        }
      ]
    },
    {
      "cell_type": "code",
      "source": [
        "# Model1: glove-embedding = True\n",
        "model1_glo, early_glo, cp = get_model1(glove_embedding = True)\n",
        "model1_glo.compile(loss=\"binary_crossentropy\",\n",
        "                optimizer=tf.keras.optimizers.Adam(),\n",
        "                metrics=[\"accuracy\"])\n",
        "model1_glo_history = model1_glo.fit(X_train_glove, # input sentences can be a list of strings due to text preprocessing layer built-in model\n",
        "                              y_train,\n",
        "                              epochs=10,\n",
        "                              callbacks = [early_glo, cp],\n",
        "                              validation_data=(X_test_glove, y_test))"
      ],
      "metadata": {
        "colab": {
          "base_uri": "https://localhost:8080/"
        },
        "id": "XWF1vqk2Zqf1",
        "outputId": "50bf472b-bbfd-4d2c-bc43-0e9d640f5849"
      },
      "execution_count": 34,
      "outputs": [
        {
          "output_type": "stream",
          "name": "stdout",
          "text": [
            "Model: \"model1_mlp_glove\"\n",
            "_________________________________________________________________\n",
            " Layer (type)                Output Shape              Param #   \n",
            "=================================================================\n",
            " input_2 (InputLayer)        [(None, 1)]               0         \n",
            "                                                                 \n",
            " embedding (Embedding)       (None, 1, 100)            1320300   \n",
            "                                                                 \n",
            " global_average_pooling1d_1   (None, 100)              0         \n",
            " (GlobalAveragePooling1D)                                        \n",
            "                                                                 \n",
            " dense_1 (Dense)             (None, 1)                 101       \n",
            "                                                                 \n",
            "=================================================================\n",
            "Total params: 1,320,401\n",
            "Trainable params: 101\n",
            "Non-trainable params: 1,320,300\n",
            "_________________________________________________________________\n",
            "None\n",
            "Epoch 1/10\n",
            "172/179 [===========================>..] - ETA: 0s - loss: 0.6668 - accuracy: 0.6195\n",
            "Epoch 1: val_accuracy improved from -inf to 0.67805, saving model to /content/drive/MyDrive/disastertweet/checkpoint/model1_mlp_glove/model1_mlp_glove.hdf5\n",
            "179/179 [==============================] - 2s 8ms/step - loss: 0.6663 - accuracy: 0.6213 - val_loss: 0.6477 - val_accuracy: 0.6780\n",
            "Epoch 2/10\n",
            "175/179 [============================>.] - ETA: 0s - loss: 0.6310 - accuracy: 0.7152\n",
            "Epoch 2: val_accuracy improved from 0.67805 to 0.75420, saving model to /content/drive/MyDrive/disastertweet/checkpoint/model1_mlp_glove/model1_mlp_glove.hdf5\n",
            "179/179 [==============================] - 1s 4ms/step - loss: 0.6311 - accuracy: 0.7152 - val_loss: 0.6174 - val_accuracy: 0.7542\n",
            "Epoch 3/10\n",
            "176/179 [============================>.] - ETA: 0s - loss: 0.6047 - accuracy: 0.7516\n",
            "Epoch 3: val_accuracy improved from 0.75420 to 0.75945, saving model to /content/drive/MyDrive/disastertweet/checkpoint/model1_mlp_glove/model1_mlp_glove.hdf5\n",
            "179/179 [==============================] - 1s 5ms/step - loss: 0.6046 - accuracy: 0.7521 - val_loss: 0.5945 - val_accuracy: 0.7595\n",
            "Epoch 4/10\n",
            "168/179 [===========================>..] - ETA: 0s - loss: 0.5856 - accuracy: 0.7613\n",
            "Epoch 4: val_accuracy improved from 0.75945 to 0.76366, saving model to /content/drive/MyDrive/disastertweet/checkpoint/model1_mlp_glove/model1_mlp_glove.hdf5\n",
            "179/179 [==============================] - 1s 6ms/step - loss: 0.5843 - accuracy: 0.7613 - val_loss: 0.5768 - val_accuracy: 0.7637\n",
            "Epoch 5/10\n",
            "177/179 [============================>.] - ETA: 0s - loss: 0.5692 - accuracy: 0.7643\n",
            "Epoch 5: val_accuracy improved from 0.76366 to 0.76786, saving model to /content/drive/MyDrive/disastertweet/checkpoint/model1_mlp_glove/model1_mlp_glove.hdf5\n",
            "179/179 [==============================] - 1s 6ms/step - loss: 0.5687 - accuracy: 0.7649 - val_loss: 0.5629 - val_accuracy: 0.7679\n",
            "Epoch 6/10\n",
            "168/179 [===========================>..] - ETA: 0s - loss: 0.5559 - accuracy: 0.7669\n",
            "Epoch 6: val_accuracy improved from 0.76786 to 0.76838, saving model to /content/drive/MyDrive/disastertweet/checkpoint/model1_mlp_glove/model1_mlp_glove.hdf5\n",
            "179/179 [==============================] - 1s 5ms/step - loss: 0.5565 - accuracy: 0.7655 - val_loss: 0.5520 - val_accuracy: 0.7684\n",
            "Epoch 7/10\n",
            "163/179 [==========================>...] - ETA: 0s - loss: 0.5478 - accuracy: 0.7667\n",
            "Epoch 7: val_accuracy improved from 0.76838 to 0.77206, saving model to /content/drive/MyDrive/disastertweet/checkpoint/model1_mlp_glove/model1_mlp_glove.hdf5\n",
            "179/179 [==============================] - 1s 4ms/step - loss: 0.5469 - accuracy: 0.7681 - val_loss: 0.5433 - val_accuracy: 0.7721\n",
            "Epoch 8/10\n",
            "178/179 [============================>.] - ETA: 0s - loss: 0.5396 - accuracy: 0.7676\n",
            "Epoch 8: val_accuracy did not improve from 0.77206\n",
            "179/179 [==============================] - 1s 4ms/step - loss: 0.5393 - accuracy: 0.7679 - val_loss: 0.5364 - val_accuracy: 0.7721\n",
            "Epoch 9/10\n",
            "164/179 [==========================>...] - ETA: 0s - loss: 0.5350 - accuracy: 0.7710\n",
            "Epoch 9: val_accuracy did not improve from 0.77206\n",
            "179/179 [==============================] - 1s 4ms/step - loss: 0.5330 - accuracy: 0.7719 - val_loss: 0.5306 - val_accuracy: 0.7715\n",
            "Epoch 10/10\n",
            "161/179 [=========================>....] - ETA: 0s - loss: 0.5306 - accuracy: 0.7681\n",
            "Epoch 10: val_accuracy did not improve from 0.77206\n",
            "179/179 [==============================] - 1s 4ms/step - loss: 0.5279 - accuracy: 0.7712 - val_loss: 0.5259 - val_accuracy: 0.7705\n"
          ]
        }
      ]
    },
    {
      "cell_type": "code",
      "source": [
        "model_1_glo_pred = get_class(model1_glo, X_test_glove)\n",
        "get_cfm(model_1_glo_pred, y_test)"
      ],
      "metadata": {
        "id": "-KOJmnfTaBY6",
        "colab": {
          "base_uri": "https://localhost:8080/",
          "height": 504
        },
        "outputId": "52e12ea4-5eab-43d4-b0dd-5632a1421c64"
      },
      "execution_count": 35,
      "outputs": [
        {
          "output_type": "stream",
          "name": "stdout",
          "text": [
            "60/60 [==============================] - 0s 1ms/step\n"
          ]
        },
        {
          "output_type": "display_data",
          "data": {
            "text/plain": [
              "<Figure size 500x500 with 2 Axes>"
            ],
            "image/png": "[encoded data removed]"
          },
          "metadata": {}
        }
      ]
    },
    {
      "cell_type": "markdown",
      "source": [
        "#### **Model 2: LSTM-Bi-LSTM**"
      ],
      "metadata": {
        "id": "vV1N09MQ39nG"
      }
    },
    {
      "cell_type": "code",
      "source": [
        "def get_model2(glove_embedding = False, bidirectional = False):\n",
        "    name = {(False, False): \"00\", (False, True): \"01\", (True, False): \"10\", (True, True): \"11\"}\n",
        "    inputs = layers.Input(shape=(1,))\n",
        "    if glove_embedding:\n",
        "      x = glove_embed(inputs)\n",
        "    else:\n",
        "      x = embedding_normal(inputs)\n",
        "    if bidirectional:\n",
        "      x = layers.Bidirectional(tf.keras.layers.LSTM(64, return_sequences=True))(x)\n",
        "      x = layers.Bidirectional(tf.keras.layers.LSTM(32))(x)\n",
        "    else:\n",
        "      x = layers.LSTM(64, return_sequences=True)(x)\n",
        "      x = layers.LSTM(32)(x)\n",
        "    x = layers.Dense(32, activation=\"relu\")(x)\n",
        "    outputs = layers.Dense(1, activation=\"sigmoid\")(x)\n",
        "\n",
        "    model_name = name[(glove_embedding, bidirectional)]\n",
        "    model_2 = tf.keras.Model(inputs, outputs, name= \"model2_\" + model_name)\n",
        "    model_2.compile(loss=\"binary_crossentropy\",\n",
        "                optimizer=tf.keras.optimizers.Adam(),\n",
        "                metrics=[\"accuracy\"])\n",
        "\n",
        "    # Get callback\n",
        "    early_stop, cp = define_callback(\"model2_\" + model_name)\n",
        "    print(model_2.summary())\n",
        "    return model_2, early_stop, cp"
      ],
      "metadata": {
        "id": "mnkcXY7p3CU-"
      },
      "execution_count": 36,
      "outputs": []
    },
    {
      "cell_type": "code",
      "source": [
        "# Model2: Glove = False, bidirectional = False\n",
        "model_2, early, cp= get_model2(glove_embedding = False, bidirectional = False)"
      ],
      "metadata": {
        "colab": {
          "base_uri": "https://localhost:8080/"
        },
        "id": "RR6Qd5175rDC",
        "outputId": "5e459ba0-b05a-480d-8f5e-9f0bcb8e896a"
      },
      "execution_count": 37,
      "outputs": [
        {
          "output_type": "stream",
          "name": "stdout",
          "text": [
            "Model: \"model2_00\"\n",
            "_________________________________________________________________\n",
            " Layer (type)                Output Shape              Param #   \n",
            "=================================================================\n",
            " input_3 (InputLayer)        [(None, 1)]               0         \n",
            "                                                                 \n",
            " embedding_1 (Embedding)     (None, 1, 128)            1664000   \n",
            "                                                                 \n",
            " lstm (LSTM)                 (None, 1, 64)             49408     \n",
            "                                                                 \n",
            " lstm_1 (LSTM)               (None, 32)                12416     \n",
            "                                                                 \n",
            " dense_2 (Dense)             (None, 32)                1056      \n",
            "                                                                 \n",
            " dense_3 (Dense)             (None, 1)                 33        \n",
            "                                                                 \n",
            "=================================================================\n",
            "Total params: 1,726,913\n",
            "Trainable params: 1,726,913\n",
            "Non-trainable params: 0\n",
            "_________________________________________________________________\n",
            "None\n"
          ]
        }
      ]
    },
    {
      "cell_type": "code",
      "source": [
        "model2_history= model_2.fit(X_train_nor,\n",
        "                              y_train,\n",
        "                              epochs=5,\n",
        "                              callbacks = [early, cp],\n",
        "                              validation_data=(X_test_nor, y_test))"
      ],
      "metadata": {
        "colab": {
          "base_uri": "https://localhost:8080/"
        },
        "id": "A43LsZP051-_",
        "outputId": "1d1c0ea3-303a-4bfa-9fee-4ef88a6f5213"
      },
      "execution_count": 38,
      "outputs": [
        {
          "output_type": "stream",
          "name": "stdout",
          "text": [
            "Epoch 1/5\n",
            "179/179 [==============================] - ETA: 0s - loss: 0.2022 - accuracy: 0.9445\n",
            "Epoch 1: val_accuracy improved from -inf to 0.78519, saving model to /content/drive/MyDrive/disastertweet/checkpoint/model2_00/model2_00.hdf5\n",
            "179/179 [==============================] - 21s 90ms/step - loss: 0.2022 - accuracy: 0.9445 - val_loss: 0.6042 - val_accuracy: 0.7852\n",
            "Epoch 2/5\n",
            "179/179 [==============================] - ETA: 0s - loss: 0.1173 - accuracy: 0.9574\n",
            "Epoch 2: val_accuracy improved from 0.78519 to 0.78992, saving model to /content/drive/MyDrive/disastertweet/checkpoint/model2_00/model2_00.hdf5\n",
            "179/179 [==============================] - 4s 21ms/step - loss: 0.1173 - accuracy: 0.9574 - val_loss: 0.5983 - val_accuracy: 0.7899\n",
            "Epoch 3/5\n",
            "179/179 [==============================] - ETA: 0s - loss: 0.0936 - accuracy: 0.9639\n",
            "Epoch 3: val_accuracy did not improve from 0.78992\n",
            "179/179 [==============================] - 3s 14ms/step - loss: 0.0936 - accuracy: 0.9639 - val_loss: 0.7333 - val_accuracy: 0.7684\n",
            "Epoch 4/5\n",
            "179/179 [==============================] - ETA: 0s - loss: 0.0767 - accuracy: 0.9725\n",
            "Epoch 4: val_accuracy did not improve from 0.78992\n",
            "179/179 [==============================] - 2s 13ms/step - loss: 0.0767 - accuracy: 0.9725 - val_loss: 0.8989 - val_accuracy: 0.7600\n",
            "Epoch 5/5\n",
            "179/179 [==============================] - ETA: 0s - loss: 0.0593 - accuracy: 0.9751\n",
            "Epoch 5: val_accuracy did not improve from 0.78992\n",
            "179/179 [==============================] - 2s 13ms/step - loss: 0.0593 - accuracy: 0.9751 - val_loss: 1.1090 - val_accuracy: 0.7595\n",
            "Epoch 5: early stopping\n"
          ]
        }
      ]
    },
    {
      "cell_type": "code",
      "source": [
        "# model2.2 - glove = True, bidirectional = False\n",
        "model2_2, early, cp = get_model2(glove_embedding = True, bidirectional = False)\n",
        "model2_2_history= model2_2.fit(X_train_glove,\n",
        "                              y_train,\n",
        "                              epochs=10,\n",
        "                              callbacks = [early, cp],\n",
        "                              validation_data=(X_test_glove, y_test))"
      ],
      "metadata": {
        "colab": {
          "base_uri": "https://localhost:8080/"
        },
        "id": "QaBGvLl26XQc",
        "outputId": "cc121c0e-64d8-4f2f-a1ad-ff1b34053cb8"
      },
      "execution_count": 39,
      "outputs": [
        {
          "output_type": "stream",
          "name": "stdout",
          "text": [
            "Model: \"model2_10\"\n",
            "_________________________________________________________________\n",
            " Layer (type)                Output Shape              Param #   \n",
            "=================================================================\n",
            " input_4 (InputLayer)        [(None, 1)]               0         \n",
            "                                                                 \n",
            " embedding (Embedding)       (None, 1, 100)            1320300   \n",
            "                                                                 \n",
            " lstm_2 (LSTM)               (None, 1, 64)             42240     \n",
            "                                                                 \n",
            " lstm_3 (LSTM)               (None, 32)                12416     \n",
            "                                                                 \n",
            " dense_4 (Dense)             (None, 32)                1056      \n",
            "                                                                 \n",
            " dense_5 (Dense)             (None, 1)                 33        \n",
            "                                                                 \n",
            "=================================================================\n",
            "Total params: 1,376,045\n",
            "Trainable params: 55,745\n",
            "Non-trainable params: 1,320,300\n",
            "_________________________________________________________________\n",
            "None\n",
            "Epoch 1/10\n",
            "177/179 [============================>.] - ETA: 0s - loss: 0.5323 - accuracy: 0.7479\n",
            "Epoch 1: val_accuracy improved from -inf to 0.77679, saving model to /content/drive/MyDrive/disastertweet/checkpoint/model2_10/model2_10.hdf5\n",
            "179/179 [==============================] - 7s 16ms/step - loss: 0.5317 - accuracy: 0.7481 - val_loss: 0.4842 - val_accuracy: 0.7768\n",
            "Epoch 2/10\n",
            "175/179 [============================>.] - ETA: 0s - loss: 0.4810 - accuracy: 0.7857\n",
            "Epoch 2: val_accuracy improved from 0.77679 to 0.77941, saving model to /content/drive/MyDrive/disastertweet/checkpoint/model2_10/model2_10.hdf5\n",
            "179/179 [==============================] - 2s 9ms/step - loss: 0.4826 - accuracy: 0.7847 - val_loss: 0.4786 - val_accuracy: 0.7794\n",
            "Epoch 3/10\n",
            "179/179 [==============================] - ETA: 0s - loss: 0.4612 - accuracy: 0.7926\n",
            "Epoch 3: val_accuracy improved from 0.77941 to 0.78414, saving model to /content/drive/MyDrive/disastertweet/checkpoint/model2_10/model2_10.hdf5\n",
            "179/179 [==============================] - 3s 14ms/step - loss: 0.4612 - accuracy: 0.7926 - val_loss: 0.4731 - val_accuracy: 0.7841\n",
            "Epoch 4/10\n",
            "176/179 [============================>.] - ETA: 0s - loss: 0.4388 - accuracy: 0.8015\n",
            "Epoch 4: val_accuracy did not improve from 0.78414\n",
            "179/179 [==============================] - 4s 20ms/step - loss: 0.4372 - accuracy: 0.8026 - val_loss: 0.4848 - val_accuracy: 0.7836\n",
            "Epoch 5/10\n",
            "176/179 [============================>.] - ETA: 0s - loss: 0.4119 - accuracy: 0.8161\n",
            "Epoch 5: val_accuracy improved from 0.78414 to 0.78624, saving model to /content/drive/MyDrive/disastertweet/checkpoint/model2_10/model2_10.hdf5\n",
            "179/179 [==============================] - 3s 19ms/step - loss: 0.4119 - accuracy: 0.8161 - val_loss: 0.4791 - val_accuracy: 0.7862\n",
            "Epoch 6/10\n",
            "179/179 [==============================] - ETA: 0s - loss: 0.3823 - accuracy: 0.8306\n",
            "Epoch 6: val_accuracy did not improve from 0.78624\n",
            "179/179 [==============================] - 3s 14ms/step - loss: 0.3823 - accuracy: 0.8306 - val_loss: 0.5009 - val_accuracy: 0.7768\n",
            "Epoch 6: early stopping\n"
          ]
        }
      ]
    },
    {
      "cell_type": "code",
      "source": [
        "# model 2_3: glove_em = False, bidirect = True\n",
        "model2_3, early, cp= get_model2(glove_embedding = False, bidirectional = True)\n",
        "model2_3_history= model2_3.fit(X_train_nor,\n",
        "                              y_train,\n",
        "                              epochs=5,\n",
        "                              callbacks = [early, cp],\n",
        "                              validation_data=(X_test_nor, y_test))"
      ],
      "metadata": {
        "colab": {
          "base_uri": "https://localhost:8080/"
        },
        "id": "ImFA4cC88a7S",
        "outputId": "360bd83f-243e-4519-affb-e34b030eb9f4"
      },
      "execution_count": 40,
      "outputs": [
        {
          "output_type": "stream",
          "name": "stdout",
          "text": [
            "Model: \"model2_01\"\n",
            "_________________________________________________________________\n",
            " Layer (type)                Output Shape              Param #   \n",
            "=================================================================\n",
            " input_5 (InputLayer)        [(None, 1)]               0         \n",
            "                                                                 \n",
            " embedding_1 (Embedding)     (None, 1, 128)            1664000   \n",
            "                                                                 \n",
            " bidirectional (Bidirectiona  (None, 1, 128)           98816     \n",
            " l)                                                              \n",
            "                                                                 \n",
            " bidirectional_1 (Bidirectio  (None, 64)               41216     \n",
            " nal)                                                            \n",
            "                                                                 \n",
            " dense_6 (Dense)             (None, 32)                2080      \n",
            "                                                                 \n",
            " dense_7 (Dense)             (None, 1)                 33        \n",
            "                                                                 \n",
            "=================================================================\n",
            "Total params: 1,806,145\n",
            "Trainable params: 1,806,145\n",
            "Non-trainable params: 0\n",
            "_________________________________________________________________\n",
            "None\n",
            "Epoch 1/5\n",
            "179/179 [==============================] - ETA: 0s - loss: 0.1102 - accuracy: 0.9685\n",
            "Epoch 1: val_accuracy improved from -inf to 0.76576, saving model to /content/drive/MyDrive/disastertweet/checkpoint/model2_01/model2_01.hdf5\n",
            "179/179 [==============================] - 27s 84ms/step - loss: 0.1102 - accuracy: 0.9685 - val_loss: 0.8730 - val_accuracy: 0.7658\n",
            "Epoch 2/5\n",
            "179/179 [==============================] - ETA: 0s - loss: 0.0547 - accuracy: 0.9779\n",
            "Epoch 2: val_accuracy did not improve from 0.76576\n",
            "179/179 [==============================] - 6s 32ms/step - loss: 0.0547 - accuracy: 0.9779 - val_loss: 0.7953 - val_accuracy: 0.7642\n",
            "Epoch 3/5\n",
            "179/179 [==============================] - ETA: 0s - loss: 0.0412 - accuracy: 0.9813\n",
            "Epoch 3: val_accuracy did not improve from 0.76576\n",
            "179/179 [==============================] - 3s 18ms/step - loss: 0.0412 - accuracy: 0.9813 - val_loss: 1.2233 - val_accuracy: 0.7547\n",
            "Epoch 4/5\n",
            "179/179 [==============================] - ETA: 0s - loss: 0.0404 - accuracy: 0.9816\n",
            "Epoch 4: val_accuracy did not improve from 0.76576\n",
            "179/179 [==============================] - 3s 17ms/step - loss: 0.0404 - accuracy: 0.9816 - val_loss: 1.2155 - val_accuracy: 0.7495\n",
            "Epoch 5/5\n",
            "179/179 [==============================] - ETA: 0s - loss: 0.0360 - accuracy: 0.9818\n",
            "Epoch 5: val_accuracy did not improve from 0.76576\n",
            "179/179 [==============================] - 3s 18ms/step - loss: 0.0360 - accuracy: 0.9818 - val_loss: 1.5242 - val_accuracy: 0.7447\n",
            "Epoch 5: early stopping\n"
          ]
        }
      ]
    },
    {
      "cell_type": "code",
      "source": [
        "# model_2_4: glove_em = True, bidirect = True\n",
        "model2_4, early, cp = get_model2(glove_embedding = True, bidirectional = True)\n",
        "model2_4_history= model2_4.fit(X_train_glove,\n",
        "                              y_train,\n",
        "                              epochs=10,\n",
        "                              callbacks = [early, cp],\n",
        "                              validation_data=(X_test_glove, y_test))"
      ],
      "metadata": {
        "colab": {
          "base_uri": "https://localhost:8080/"
        },
        "id": "Bbs_tYW0LhcD",
        "outputId": "64ca6239-ba60-488e-c633-a3c6304a274b"
      },
      "execution_count": 41,
      "outputs": [
        {
          "output_type": "stream",
          "name": "stdout",
          "text": [
            "Model: \"model2_11\"\n",
            "_________________________________________________________________\n",
            " Layer (type)                Output Shape              Param #   \n",
            "=================================================================\n",
            " input_6 (InputLayer)        [(None, 1)]               0         \n",
            "                                                                 \n",
            " embedding (Embedding)       (None, 1, 100)            1320300   \n",
            "                                                                 \n",
            " bidirectional_2 (Bidirectio  (None, 1, 128)           84480     \n",
            " nal)                                                            \n",
            "                                                                 \n",
            " bidirectional_3 (Bidirectio  (None, 64)               41216     \n",
            " nal)                                                            \n",
            "                                                                 \n",
            " dense_8 (Dense)             (None, 32)                2080      \n",
            "                                                                 \n",
            " dense_9 (Dense)             (None, 1)                 33        \n",
            "                                                                 \n",
            "=================================================================\n",
            "Total params: 1,448,109\n",
            "Trainable params: 127,809\n",
            "Non-trainable params: 1,320,300\n",
            "_________________________________________________________________\n",
            "None\n",
            "Epoch 1/10\n",
            "179/179 [==============================] - ETA: 0s - loss: 0.5241 - accuracy: 0.7548\n",
            "Epoch 1: val_accuracy improved from -inf to 0.77731, saving model to /content/drive/MyDrive/disastertweet/checkpoint/model2_11/model2_11.hdf5\n",
            "179/179 [==============================] - 12s 26ms/step - loss: 0.5241 - accuracy: 0.7548 - val_loss: 0.4826 - val_accuracy: 0.7773\n",
            "Epoch 2/10\n",
            "175/179 [============================>.] - ETA: 0s - loss: 0.4727 - accuracy: 0.7889\n",
            "Epoch 2: val_accuracy improved from 0.77731 to 0.78046, saving model to /content/drive/MyDrive/disastertweet/checkpoint/model2_11/model2_11.hdf5\n",
            "179/179 [==============================] - 3s 17ms/step - loss: 0.4744 - accuracy: 0.7881 - val_loss: 0.4785 - val_accuracy: 0.7805\n",
            "Epoch 3/10\n",
            "178/179 [============================>.] - ETA: 0s - loss: 0.4571 - accuracy: 0.7983\n",
            "Epoch 3: val_accuracy improved from 0.78046 to 0.79097, saving model to /content/drive/MyDrive/disastertweet/checkpoint/model2_11/model2_11.hdf5\n",
            "179/179 [==============================] - 2s 13ms/step - loss: 0.4572 - accuracy: 0.7982 - val_loss: 0.4770 - val_accuracy: 0.7910\n",
            "Epoch 4/10\n",
            "178/179 [============================>.] - ETA: 0s - loss: 0.4298 - accuracy: 0.8113\n",
            "Epoch 4: val_accuracy did not improve from 0.79097\n",
            "179/179 [==============================] - 2s 12ms/step - loss: 0.4296 - accuracy: 0.8114 - val_loss: 0.4842 - val_accuracy: 0.7794\n",
            "Epoch 5/10\n",
            "176/179 [============================>.] - ETA: 0s - loss: 0.4029 - accuracy: 0.8235\n",
            "Epoch 5: val_accuracy improved from 0.79097 to 0.79674, saving model to /content/drive/MyDrive/disastertweet/checkpoint/model2_11/model2_11.hdf5\n",
            "179/179 [==============================] - 2s 12ms/step - loss: 0.4028 - accuracy: 0.8234 - val_loss: 0.4826 - val_accuracy: 0.7967\n",
            "Epoch 6/10\n",
            "178/179 [============================>.] - ETA: 0s - loss: 0.3740 - accuracy: 0.8350\n",
            "Epoch 6: val_accuracy did not improve from 0.79674\n",
            "179/179 [==============================] - 2s 12ms/step - loss: 0.3744 - accuracy: 0.8348 - val_loss: 0.4890 - val_accuracy: 0.7820\n",
            "Epoch 6: early stopping\n"
          ]
        }
      ]
    },
    {
      "cell_type": "markdown",
      "source": [
        "### **Model 3: TensorHub pretrained Universal Sentence Encoder**"
      ],
      "metadata": {
        "id": "BrUA8cI5-eqq"
      }
    },
    {
      "cell_type": "code",
      "source": [
        "import tensorflow_hub as hub"
      ],
      "metadata": {
        "id": "zTApWdCh9ii_"
      },
      "execution_count": 42,
      "outputs": []
    },
    {
      "cell_type": "code",
      "source": [
        "sentence_encoder_layer = hub.KerasLayer(\"https://tfhub.dev/google/universal-sentence-encoder/4\",\n",
        "                                        dtype=tf.string, # data type of inputs coming to the USE layer\n",
        "                                        trainable=False, # keep the pretrained weights\n",
        "                                        name=\"hub-embed\")"
      ],
      "metadata": {
        "id": "45xKHPzT_QRK"
      },
      "execution_count": 43,
      "outputs": []
    },
    {
      "cell_type": "code",
      "source": [
        "sentence_encoder_layer"
      ],
      "metadata": {
        "colab": {
          "base_uri": "https://localhost:8080/"
        },
        "id": "Y6Ezmtsk_e-6",
        "outputId": "516333ac-3223-4623-f06b-0ad89e7d15b8"
      },
      "execution_count": 44,
      "outputs": [
        {
          "output_type": "execute_result",
          "data": {
            "text/plain": [
              "<tensorflow_hub.keras_layer.KerasLayer at 0x7f6daf6312d0>"
            ]
          },
          "metadata": {},
          "execution_count": 44
        }
      ]
    },
    {
      "cell_type": "code",
      "source": [
        "def get_model3():\n",
        "  model_3 = tf.keras.Sequential([\n",
        "  sentence_encoder_layer,\n",
        "  layers.Dense(64, activation=\"relu\"),\n",
        "  layers.Dense(1, activation=\"sigmoid\")], name = 'tf-hub-model')\n",
        "\n",
        "\n",
        "  # Compile model\n",
        "  model_3.compile(loss=\"binary_crossentropy\",\n",
        "                  optimizer=tf.keras.optimizers.Adam(),\n",
        "                  metrics=[\"accuracy\"])\n",
        "  # Compile model\n",
        "  early_stop, cp = define_callback('tfhub')\n",
        "  return model_3, early_stop, cp\n"
      ],
      "metadata": {
        "id": "PYLc4iYV_mRf"
      },
      "execution_count": 45,
      "outputs": []
    },
    {
      "cell_type": "code",
      "source": [
        "model_3, early, cp = get_model3()"
      ],
      "metadata": {
        "id": "9wQi3IkvAIpC"
      },
      "execution_count": 46,
      "outputs": []
    },
    {
      "cell_type": "code",
      "source": [
        "model_3_history = model_3.fit(np.array(X_train),\n",
        "                              y_train,\n",
        "                              epochs=15,\n",
        "                              validation_data=(np.array(X_test), y_test),\n",
        "                              callbacks=[early, cp])"
      ],
      "metadata": {
        "colab": {
          "base_uri": "https://localhost:8080/"
        },
        "id": "zIYV1dGwAjAe",
        "outputId": "b330cdfa-bf1a-42c4-b872-9aa2570a2b4b"
      },
      "execution_count": 47,
      "outputs": [
        {
          "output_type": "stream",
          "name": "stdout",
          "text": [
            "Epoch 1/15\n",
            "176/179 [============================>.] - ETA: 0s - loss: 0.5671 - accuracy: 0.7349\n",
            "Epoch 1: val_accuracy improved from -inf to 0.78151, saving model to /content/drive/MyDrive/disastertweet/checkpoint/tfhub/tfhub.hdf5\n",
            "179/179 [==============================] - 43s 209ms/step - loss: 0.5656 - accuracy: 0.7359 - val_loss: 0.4950 - val_accuracy: 0.7815\n",
            "Epoch 2/15\n",
            "175/179 [============================>.] - ETA: 0s - loss: 0.4776 - accuracy: 0.7852\n",
            "Epoch 2: val_accuracy improved from 0.78151 to 0.78361, saving model to /content/drive/MyDrive/disastertweet/checkpoint/tfhub/tfhub.hdf5\n",
            "179/179 [==============================] - 8s 47ms/step - loss: 0.4784 - accuracy: 0.7847 - val_loss: 0.4842 - val_accuracy: 0.7836\n",
            "Epoch 3/15\n",
            "179/179 [==============================] - ETA: 0s - loss: 0.4627 - accuracy: 0.7884\n",
            "Epoch 3: val_accuracy improved from 0.78361 to 0.78466, saving model to /content/drive/MyDrive/disastertweet/checkpoint/tfhub/tfhub.hdf5\n",
            "179/179 [==============================] - 11s 63ms/step - loss: 0.4627 - accuracy: 0.7884 - val_loss: 0.4798 - val_accuracy: 0.7847\n",
            "Epoch 4/15\n",
            "174/179 [============================>.] - ETA: 0s - loss: 0.4532 - accuracy: 0.7953\n",
            "Epoch 4: val_accuracy did not improve from 0.78466\n",
            "179/179 [==============================] - 2s 14ms/step - loss: 0.4519 - accuracy: 0.7958 - val_loss: 0.4851 - val_accuracy: 0.7768\n",
            "Epoch 5/15\n",
            "178/179 [============================>.] - ETA: 0s - loss: 0.4437 - accuracy: 0.7967\n",
            "Epoch 5: val_accuracy did not improve from 0.78466\n",
            "179/179 [==============================] - 2s 14ms/step - loss: 0.4436 - accuracy: 0.7966 - val_loss: 0.4886 - val_accuracy: 0.7773\n",
            "Epoch 6/15\n",
            "178/179 [============================>.] - ETA: 0s - loss: 0.4353 - accuracy: 0.7997\n",
            "Epoch 6: val_accuracy did not improve from 0.78466\n",
            "179/179 [==============================] - 4s 20ms/step - loss: 0.4354 - accuracy: 0.7996 - val_loss: 0.4779 - val_accuracy: 0.7815\n",
            "Epoch 7/15\n",
            "179/179 [==============================] - ETA: 0s - loss: 0.4274 - accuracy: 0.8066\n",
            "Epoch 7: val_accuracy did not improve from 0.78466\n",
            "179/179 [==============================] - 4s 21ms/step - loss: 0.4274 - accuracy: 0.8066 - val_loss: 0.4772 - val_accuracy: 0.7847\n",
            "Epoch 8/15\n",
            "175/179 [============================>.] - ETA: 0s - loss: 0.4203 - accuracy: 0.8100\n",
            "Epoch 8: val_accuracy did not improve from 0.78466\n",
            "179/179 [==============================] - 4s 22ms/step - loss: 0.4202 - accuracy: 0.8103 - val_loss: 0.4764 - val_accuracy: 0.7831\n",
            "Epoch 9/15\n",
            "176/179 [============================>.] - ETA: 0s - loss: 0.4123 - accuracy: 0.8118\n",
            "Epoch 9: val_accuracy did not improve from 0.78466\n",
            "179/179 [==============================] - 4s 22ms/step - loss: 0.4125 - accuracy: 0.8114 - val_loss: 0.4782 - val_accuracy: 0.7768\n",
            "Epoch 10/15\n",
            "179/179 [==============================] - ETA: 0s - loss: 0.4055 - accuracy: 0.8170\n",
            "Epoch 10: val_accuracy did not improve from 0.78466\n",
            "179/179 [==============================] - 4s 22ms/step - loss: 0.4055 - accuracy: 0.8170 - val_loss: 0.4757 - val_accuracy: 0.7836\n",
            "Epoch 11/15\n",
            "176/179 [============================>.] - ETA: 0s - loss: 0.3979 - accuracy: 0.8203\n",
            "Epoch 11: val_accuracy did not improve from 0.78466\n",
            "179/179 [==============================] - 3s 14ms/step - loss: 0.3979 - accuracy: 0.8208 - val_loss: 0.4809 - val_accuracy: 0.7826\n",
            "Epoch 12/15\n",
            "177/179 [============================>.] - ETA: 0s - loss: 0.3881 - accuracy: 0.8284\n",
            "Epoch 12: val_accuracy did not improve from 0.78466\n",
            "179/179 [==============================] - 2s 13ms/step - loss: 0.3885 - accuracy: 0.8278 - val_loss: 0.4784 - val_accuracy: 0.7815\n",
            "Epoch 13/15\n",
            "179/179 [==============================] - ETA: 0s - loss: 0.3811 - accuracy: 0.8334\n",
            "Epoch 13: val_accuracy did not improve from 0.78466\n",
            "179/179 [==============================] - 2s 13ms/step - loss: 0.3811 - accuracy: 0.8334 - val_loss: 0.4769 - val_accuracy: 0.7841\n",
            "Epoch 13: early stopping\n"
          ]
        }
      ]
    },
    {
      "cell_type": "markdown",
      "source": [
        "### **Model 4: CONV1D**"
      ],
      "metadata": {
        "id": "DZBs9hhnV8ZG"
      }
    },
    {
      "cell_type": "code",
      "source": [
        "def get_model4(glove_embedding = False):\n",
        "    inputs = layers.Input(shape=(1,))\n",
        "    model_name = 'model4'\n",
        "    if glove_embedding:\n",
        "      x = glove_embed(inputs)\n",
        "      model_name = 'model4_glove'\n",
        "    else:\n",
        "      x = embedding_normal(inputs)\n",
        "    x = layers.Conv1D(filters=32, kernel_size=5, activation=\"relu\", padding=\"same\")(x)\n",
        "    x = layers.GlobalMaxPool1D()(x)\n",
        "\n",
        "    # x = layers.Dense(64, activation=\"relu\")(x)\n",
        "    x = layers.Dense(32, activation=\"relu\")(x)\n",
        "    outputs = layers.Dense(1, activation=\"sigmoid\")(x)\n",
        "    model_4 = tf.keras.Model(inputs, outputs, name=model_name)\n",
        "\n",
        "    # Compile Conv1D model\n",
        "    model_4.compile(loss=\"binary_crossentropy\",\n",
        "                    optimizer=tf.keras.optimizers.Adam(),\n",
        "                    metrics=[\"accuracy\"])\n",
        "\n",
        "    model_4.summary()\n",
        "    early, cp = define_callback(model_name)\n",
        "    return model_4, early, cp"
      ],
      "metadata": {
        "id": "3Xmjs5j7Nwzh"
      },
      "execution_count": 102,
      "outputs": []
    },
    {
      "cell_type": "code",
      "source": [
        "model_4, early, cp = get_model4()"
      ],
      "metadata": {
        "colab": {
          "base_uri": "https://localhost:8080/"
        },
        "id": "ksGnZDq5QQEc",
        "outputId": "eafe432d-b99f-4b27-a588-95d65e07a440"
      },
      "execution_count": 103,
      "outputs": [
        {
          "output_type": "stream",
          "name": "stdout",
          "text": [
            "Model: \"model4\"\n",
            "_________________________________________________________________\n",
            " Layer (type)                Output Shape              Param #   \n",
            "=================================================================\n",
            " input_13 (InputLayer)       [(None, 1)]               0         \n",
            "                                                                 \n",
            " embedding_1 (Embedding)     (None, 1, 128)            1664000   \n",
            "                                                                 \n",
            " conv1d_7 (Conv1D)           (None, 1, 32)             20512     \n",
            "                                                                 \n",
            " global_max_pooling1d_2 (Glo  (None, 32)               0         \n",
            " balMaxPooling1D)                                                \n",
            "                                                                 \n",
            " dense_25 (Dense)            (None, 32)                1056      \n",
            "                                                                 \n",
            " dense_26 (Dense)            (None, 1)                 33        \n",
            "                                                                 \n",
            "=================================================================\n",
            "Total params: 1,685,601\n",
            "Trainable params: 1,685,601\n",
            "Non-trainable params: 0\n",
            "_________________________________________________________________\n"
          ]
        }
      ]
    },
    {
      "cell_type": "code",
      "source": [
        "model_4_history = model_4.fit(X_train_nor,\n",
        "                              y_train,\n",
        "                              epochs=10,\n",
        "                              validation_data=(X_test_nor, y_test),\n",
        "                              callbacks=[early, cp])"
      ],
      "metadata": {
        "colab": {
          "base_uri": "https://localhost:8080/"
        },
        "id": "8adiwyWKQUCw",
        "outputId": "b0e866c3-ba59-410a-a542-caa3678f50d8"
      },
      "execution_count": 104,
      "outputs": [
        {
          "output_type": "stream",
          "name": "stdout",
          "text": [
            "Epoch 1/10\n",
            "179/179 [==============================] - ETA: 0s - loss: 0.0919 - accuracy: 0.9758\n",
            "Epoch 1: val_accuracy improved from -inf to 0.76103, saving model to /content/drive/MyDrive/disastertweet/checkpoint/model4/model4.hdf5\n",
            "179/179 [==============================] - 14s 73ms/step - loss: 0.0919 - accuracy: 0.9758 - val_loss: 0.9681 - val_accuracy: 0.7610\n",
            "Epoch 2/10\n",
            "179/179 [==============================] - ETA: 0s - loss: 0.0426 - accuracy: 0.9821\n",
            "Epoch 2: val_accuracy improved from 0.76103 to 0.76155, saving model to /content/drive/MyDrive/disastertweet/checkpoint/model4/model4.hdf5\n",
            "179/179 [==============================] - 4s 19ms/step - loss: 0.0426 - accuracy: 0.9821 - val_loss: 1.0454 - val_accuracy: 0.7616\n",
            "Epoch 3/10\n",
            "179/179 [==============================] - ETA: 0s - loss: 0.0368 - accuracy: 0.9839\n",
            "Epoch 3: val_accuracy did not improve from 0.76155\n",
            "179/179 [==============================] - 3s 17ms/step - loss: 0.0368 - accuracy: 0.9839 - val_loss: 1.1212 - val_accuracy: 0.7558\n",
            "Epoch 4/10\n",
            "179/179 [==============================] - ETA: 0s - loss: 0.0410 - accuracy: 0.9823\n",
            "Epoch 4: val_accuracy did not improve from 0.76155\n",
            "179/179 [==============================] - 2s 13ms/step - loss: 0.0410 - accuracy: 0.9823 - val_loss: 1.0505 - val_accuracy: 0.7547\n",
            "Epoch 4: early stopping\n"
          ]
        }
      ]
    },
    {
      "cell_type": "code",
      "source": [
        "# model4;Glove = True\n",
        "model4_1, early, cp = get_model4(glove_embedding = True)\n",
        "model4_1_history = model4_1.fit(X_train_glove,\n",
        "                              y_train,\n",
        "                              epochs=10,\n",
        "                              validation_data=(X_test_glove, y_test),\n",
        "                              callbacks=[early, cp])"
      ],
      "metadata": {
        "colab": {
          "base_uri": "https://localhost:8080/"
        },
        "id": "t8b1Xc7ERGCC",
        "outputId": "eb58a30d-03c0-45bb-e359-7b699465a602"
      },
      "execution_count": 107,
      "outputs": [
        {
          "output_type": "stream",
          "name": "stdout",
          "text": [
            "Model: \"model4_glove\"\n",
            "_________________________________________________________________\n",
            " Layer (type)                Output Shape              Param #   \n",
            "=================================================================\n",
            " input_16 (InputLayer)       [(None, 1)]               0         \n",
            "                                                                 \n",
            " embedding (Embedding)       (None, 1, 100)            1320300   \n",
            "                                                                 \n",
            " conv1d_10 (Conv1D)          (None, 1, 32)             16032     \n",
            "                                                                 \n",
            " global_max_pooling1d_5 (Glo  (None, 32)               0         \n",
            " balMaxPooling1D)                                                \n",
            "                                                                 \n",
            " dense_31 (Dense)            (None, 32)                1056      \n",
            "                                                                 \n",
            " dense_32 (Dense)            (None, 1)                 33        \n",
            "                                                                 \n",
            "=================================================================\n",
            "Total params: 1,337,421\n",
            "Trainable params: 17,121\n",
            "Non-trainable params: 1,320,300\n",
            "_________________________________________________________________\n",
            "Epoch 1/10\n",
            "179/179 [==============================] - ETA: 0s - loss: 0.5369 - accuracy: 0.7380\n",
            "Epoch 1: val_accuracy improved from -inf to 0.77574, saving model to /content/drive/MyDrive/disastertweet/checkpoint/model4_glove/model4_glove.hdf5\n",
            "179/179 [==============================] - 5s 10ms/step - loss: 0.5369 - accuracy: 0.7380 - val_loss: 0.4952 - val_accuracy: 0.7757\n",
            "Epoch 2/10\n",
            "175/179 [============================>.] - ETA: 0s - loss: 0.4392 - accuracy: 0.8046\n",
            "Epoch 2: val_accuracy did not improve from 0.77574\n",
            "179/179 [==============================] - 1s 8ms/step - loss: 0.4406 - accuracy: 0.8040 - val_loss: 0.4863 - val_accuracy: 0.7747\n",
            "Epoch 3/10\n",
            "174/179 [============================>.] - ETA: 0s - loss: 0.3790 - accuracy: 0.8330\n",
            "Epoch 3: val_accuracy did not improve from 0.77574\n",
            "179/179 [==============================] - 1s 7ms/step - loss: 0.3794 - accuracy: 0.8331 - val_loss: 0.4979 - val_accuracy: 0.7731\n",
            "Epoch 4/10\n",
            "178/179 [============================>.] - ETA: 0s - loss: 0.3151 - accuracy: 0.8671\n",
            "Epoch 4: val_accuracy did not improve from 0.77574\n",
            "179/179 [==============================] - 1s 5ms/step - loss: 0.3149 - accuracy: 0.8671 - val_loss: 0.5189 - val_accuracy: 0.7752\n",
            "Epoch 5/10\n",
            "179/179 [==============================] - ETA: 0s - loss: 0.2517 - accuracy: 0.9040\n",
            "Epoch 5: val_accuracy did not improve from 0.77574\n",
            "179/179 [==============================] - 1s 5ms/step - loss: 0.2517 - accuracy: 0.9040 - val_loss: 0.5441 - val_accuracy: 0.7668\n",
            "Epoch 5: early stopping\n"
          ]
        }
      ]
    }
  ]
}